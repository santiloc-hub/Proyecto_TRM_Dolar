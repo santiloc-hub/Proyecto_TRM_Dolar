{
 "cells": [
  {
   "cell_type": "markdown",
   "id": "ca5bbe8e",
   "metadata": {},
   "source": [
    "# 02.Entrenamiento del modelo\n"
   ]
  },
  {
   "cell_type": "code",
   "execution_count": 82,
   "id": "317d94ea",
   "metadata": {},
   "outputs": [
    {
     "ename": "SyntaxError",
     "evalue": "invalid syntax (990198746.py, line 1)",
     "output_type": "error",
     "traceback": [
      "\u001b[1;36m  Cell \u001b[1;32mIn[82], line 1\u001b[1;36m\u001b[0m\n\u001b[1;33m    pip install tensorflow==2.15.0\u001b[0m\n\u001b[1;37m        ^\u001b[0m\n\u001b[1;31mSyntaxError\u001b[0m\u001b[1;31m:\u001b[0m invalid syntax\n"
     ]
    }
   ],
   "source": [
    "pip install tensorflow==2.15.0\n",
    "\n"
   ]
  },
  {
   "cell_type": "code",
   "execution_count": 1,
   "id": "7777b22c",
   "metadata": {},
   "outputs": [
    {
     "name": "stdout",
     "output_type": "stream",
     "text": [
      "Requirement already satisfied: spacy in c:\\users\\equipo\\appdata\\local\\programs\\python\\python311\\lib\\site-packages (3.8.5)\n",
      "Requirement already satisfied: nltk in c:\\users\\equipo\\appdata\\local\\programs\\python\\python311\\lib\\site-packages (3.9.1)\n",
      "Requirement already satisfied: spacy-legacy<3.1.0,>=3.0.11 in c:\\users\\equipo\\appdata\\local\\programs\\python\\python311\\lib\\site-packages (from spacy) (3.0.12)\n",
      "Requirement already satisfied: spacy-loggers<2.0.0,>=1.0.0 in c:\\users\\equipo\\appdata\\local\\programs\\python\\python311\\lib\\site-packages (from spacy) (1.0.5)\n",
      "Requirement already satisfied: murmurhash<1.1.0,>=0.28.0 in c:\\users\\equipo\\appdata\\local\\programs\\python\\python311\\lib\\site-packages (from spacy) (1.0.12)\n",
      "Requirement already satisfied: cymem<2.1.0,>=2.0.2 in c:\\users\\equipo\\appdata\\local\\programs\\python\\python311\\lib\\site-packages (from spacy) (2.0.11)\n",
      "Requirement already satisfied: preshed<3.1.0,>=3.0.2 in c:\\users\\equipo\\appdata\\local\\programs\\python\\python311\\lib\\site-packages (from spacy) (3.0.9)\n",
      "Requirement already satisfied: thinc<8.4.0,>=8.3.4 in c:\\users\\equipo\\appdata\\local\\programs\\python\\python311\\lib\\site-packages (from spacy) (8.3.6)\n",
      "Requirement already satisfied: wasabi<1.2.0,>=0.9.1 in c:\\users\\equipo\\appdata\\local\\programs\\python\\python311\\lib\\site-packages (from spacy) (1.1.3)\n",
      "Requirement already satisfied: srsly<3.0.0,>=2.4.3 in c:\\users\\equipo\\appdata\\local\\programs\\python\\python311\\lib\\site-packages (from spacy) (2.5.1)\n",
      "Requirement already satisfied: catalogue<2.1.0,>=2.0.6 in c:\\users\\equipo\\appdata\\local\\programs\\python\\python311\\lib\\site-packages (from spacy) (2.0.10)\n",
      "Requirement already satisfied: weasel<0.5.0,>=0.1.0 in c:\\users\\equipo\\appdata\\local\\programs\\python\\python311\\lib\\site-packages (from spacy) (0.4.1)\n",
      "Requirement already satisfied: typer<1.0.0,>=0.3.0 in c:\\users\\equipo\\appdata\\local\\programs\\python\\python311\\lib\\site-packages (from spacy) (0.15.2)\n",
      "Requirement already satisfied: tqdm<5.0.0,>=4.38.0 in c:\\users\\equipo\\appdata\\local\\programs\\python\\python311\\lib\\site-packages (from spacy) (4.67.1)\n",
      "Requirement already satisfied: numpy>=1.19.0 in c:\\users\\equipo\\appdata\\local\\programs\\python\\python311\\lib\\site-packages (from spacy) (2.0.1)\n",
      "Requirement already satisfied: requests<3.0.0,>=2.13.0 in c:\\users\\equipo\\appdata\\local\\programs\\python\\python311\\lib\\site-packages (from spacy) (2.32.3)\n",
      "Requirement already satisfied: pydantic!=1.8,!=1.8.1,<3.0.0,>=1.7.4 in c:\\users\\equipo\\appdata\\local\\programs\\python\\python311\\lib\\site-packages (from spacy) (2.11.2)\n",
      "Requirement already satisfied: jinja2 in c:\\users\\equipo\\appdata\\local\\programs\\python\\python311\\lib\\site-packages (from spacy) (3.1.6)\n",
      "Requirement already satisfied: setuptools in c:\\users\\equipo\\appdata\\local\\programs\\python\\python311\\lib\\site-packages (from spacy) (65.5.0)\n",
      "Requirement already satisfied: packaging>=20.0 in c:\\users\\equipo\\appdata\\roaming\\python\\python311\\site-packages (from spacy) (24.1)\n",
      "Requirement already satisfied: langcodes<4.0.0,>=3.2.0 in c:\\users\\equipo\\appdata\\local\\programs\\python\\python311\\lib\\site-packages (from spacy) (3.5.0)\n",
      "Requirement already satisfied: click in c:\\users\\equipo\\appdata\\local\\programs\\python\\python311\\lib\\site-packages (from nltk) (8.1.8)\n",
      "Requirement already satisfied: joblib in c:\\users\\equipo\\appdata\\local\\programs\\python\\python311\\lib\\site-packages (from nltk) (1.4.2)\n",
      "Requirement already satisfied: regex>=2021.8.3 in c:\\users\\equipo\\appdata\\local\\programs\\python\\python311\\lib\\site-packages (from nltk) (2024.11.6)\n",
      "Requirement already satisfied: language-data>=1.2 in c:\\users\\equipo\\appdata\\local\\programs\\python\\python311\\lib\\site-packages (from langcodes<4.0.0,>=3.2.0->spacy) (1.3.0)\n",
      "Requirement already satisfied: annotated-types>=0.6.0 in c:\\users\\equipo\\appdata\\local\\programs\\python\\python311\\lib\\site-packages (from pydantic!=1.8,!=1.8.1,<3.0.0,>=1.7.4->spacy) (0.7.0)\n",
      "Requirement already satisfied: pydantic-core==2.33.1 in c:\\users\\equipo\\appdata\\local\\programs\\python\\python311\\lib\\site-packages (from pydantic!=1.8,!=1.8.1,<3.0.0,>=1.7.4->spacy) (2.33.1)\n",
      "Requirement already satisfied: typing-extensions>=4.12.2 in c:\\users\\equipo\\appdata\\roaming\\python\\python311\\site-packages (from pydantic!=1.8,!=1.8.1,<3.0.0,>=1.7.4->spacy) (4.12.2)\n",
      "Requirement already satisfied: typing-inspection>=0.4.0 in c:\\users\\equipo\\appdata\\local\\programs\\python\\python311\\lib\\site-packages (from pydantic!=1.8,!=1.8.1,<3.0.0,>=1.7.4->spacy) (0.4.0)\n",
      "Requirement already satisfied: charset-normalizer<4,>=2 in c:\\users\\equipo\\appdata\\local\\programs\\python\\python311\\lib\\site-packages (from requests<3.0.0,>=2.13.0->spacy) (3.4.0)\n",
      "Requirement already satisfied: idna<4,>=2.5 in c:\\users\\equipo\\appdata\\local\\programs\\python\\python311\\lib\\site-packages (from requests<3.0.0,>=2.13.0->spacy) (3.10)\n",
      "Requirement already satisfied: urllib3<3,>=1.21.1 in c:\\users\\equipo\\appdata\\local\\programs\\python\\python311\\lib\\site-packages (from requests<3.0.0,>=2.13.0->spacy) (2.2.3)\n",
      "Requirement already satisfied: certifi>=2017.4.17 in c:\\users\\equipo\\appdata\\local\\programs\\python\\python311\\lib\\site-packages (from requests<3.0.0,>=2.13.0->spacy) (2024.8.30)\n",
      "Requirement already satisfied: blis<1.4.0,>=1.3.0 in c:\\users\\equipo\\appdata\\local\\programs\\python\\python311\\lib\\site-packages (from thinc<8.4.0,>=8.3.4->spacy) (1.3.0)\n",
      "Requirement already satisfied: confection<1.0.0,>=0.0.1 in c:\\users\\equipo\\appdata\\local\\programs\\python\\python311\\lib\\site-packages (from thinc<8.4.0,>=8.3.4->spacy) (0.1.5)\n",
      "Requirement already satisfied: colorama in c:\\users\\equipo\\appdata\\roaming\\python\\python311\\site-packages (from tqdm<5.0.0,>=4.38.0->spacy) (0.4.6)\n",
      "Requirement already satisfied: shellingham>=1.3.0 in c:\\users\\equipo\\appdata\\local\\programs\\python\\python311\\lib\\site-packages (from typer<1.0.0,>=0.3.0->spacy) (1.5.4)\n",
      "Requirement already satisfied: rich>=10.11.0 in c:\\users\\equipo\\appdata\\local\\programs\\python\\python311\\lib\\site-packages (from typer<1.0.0,>=0.3.0->spacy) (14.0.0)\n",
      "Requirement already satisfied: cloudpathlib<1.0.0,>=0.7.0 in c:\\users\\equipo\\appdata\\local\\programs\\python\\python311\\lib\\site-packages (from weasel<0.5.0,>=0.1.0->spacy) (0.21.0)\n",
      "Requirement already satisfied: smart-open<8.0.0,>=5.2.1 in c:\\users\\equipo\\appdata\\local\\programs\\python\\python311\\lib\\site-packages (from weasel<0.5.0,>=0.1.0->spacy) (7.1.0)\n",
      "Requirement already satisfied: MarkupSafe>=2.0 in c:\\users\\equipo\\appdata\\local\\programs\\python\\python311\\lib\\site-packages (from jinja2->spacy) (3.0.2)\n",
      "Requirement already satisfied: marisa-trie>=1.1.0 in c:\\users\\equipo\\appdata\\local\\programs\\python\\python311\\lib\\site-packages (from language-data>=1.2->langcodes<4.0.0,>=3.2.0->spacy) (1.2.1)\n",
      "Requirement already satisfied: markdown-it-py>=2.2.0 in c:\\users\\equipo\\appdata\\local\\programs\\python\\python311\\lib\\site-packages (from rich>=10.11.0->typer<1.0.0,>=0.3.0->spacy) (3.0.0)\n",
      "Requirement already satisfied: pygments<3.0.0,>=2.13.0 in c:\\users\\equipo\\appdata\\roaming\\python\\python311\\site-packages (from rich>=10.11.0->typer<1.0.0,>=0.3.0->spacy) (2.18.0)\n",
      "Requirement already satisfied: wrapt in c:\\users\\equipo\\appdata\\local\\programs\\python\\python311\\lib\\site-packages (from smart-open<8.0.0,>=5.2.1->weasel<0.5.0,>=0.1.0->spacy) (1.17.2)\n",
      "Requirement already satisfied: mdurl~=0.1 in c:\\users\\equipo\\appdata\\local\\programs\\python\\python311\\lib\\site-packages (from markdown-it-py>=2.2.0->rich>=10.11.0->typer<1.0.0,>=0.3.0->spacy) (0.1.2)\n",
      "Note: you may need to restart the kernel to use updated packages.\n"
     ]
    },
    {
     "name": "stderr",
     "output_type": "stream",
     "text": [
      "\n",
      "[notice] A new release of pip is available: 25.0.1 -> 25.1.1\n",
      "[notice] To update, run: python.exe -m pip install --upgrade pip\n"
     ]
    }
   ],
   "source": [
    "pip install spacy nltk"
   ]
  },
  {
   "cell_type": "code",
   "execution_count": 2,
   "id": "382819f8",
   "metadata": {},
   "outputs": [
    {
     "name": "stdout",
     "output_type": "stream",
     "text": [
      "Collecting es-core-news-sm==3.8.0\n",
      "  Downloading https://github.com/explosion/spacy-models/releases/download/es_core_news_sm-3.8.0/es_core_news_sm-3.8.0-py3-none-any.whl (12.9 MB)\n",
      "     ---------------------------------------- 0.0/12.9 MB ? eta -:--:--\n",
      "     --------- ------------------------------ 3.1/12.9 MB 18.5 MB/s eta 0:00:01\n",
      "     --------------------- ------------------ 7.1/12.9 MB 18.2 MB/s eta 0:00:01\n",
      "     -------------------------------- ------ 10.7/12.9 MB 17.7 MB/s eta 0:00:01\n",
      "     --------------------------------------- 12.9/12.9 MB 16.2 MB/s eta 0:00:00\n",
      "\u001b[38;5;2m✔ Download and installation successful\u001b[0m\n",
      "You can now load the package via spacy.load('es_core_news_sm')\n"
     ]
    },
    {
     "name": "stderr",
     "output_type": "stream",
     "text": [
      "\n",
      "[notice] A new release of pip is available: 25.0.1 -> 25.1.1\n",
      "[notice] To update, run: python.exe -m pip install --upgrade pip\n"
     ]
    }
   ],
   "source": [
    "!python -m spacy download es_core_news_sm\n"
   ]
  },
  {
   "cell_type": "code",
   "execution_count": 3,
   "id": "6ada3ea9",
   "metadata": {},
   "outputs": [
    {
     "name": "stderr",
     "output_type": "stream",
     "text": [
      "[nltk_data] Downloading package punkt to\n",
      "[nltk_data]     C:\\Users\\equipo\\AppData\\Roaming\\nltk_data...\n",
      "[nltk_data]   Package punkt is already up-to-date!\n",
      "[nltk_data] Downloading package stopwords to\n",
      "[nltk_data]     C:\\Users\\equipo\\AppData\\Roaming\\nltk_data...\n",
      "[nltk_data]   Package stopwords is already up-to-date!\n"
     ]
    }
   ],
   "source": [
    "import sqlite3\n",
    "import datetime\n",
    "import pandas as pd\n",
    "import nltk\n",
    "import spacy\n",
    "from nltk.corpus import stopwords\n",
    "from nltk.tokenize import word_tokenize\n",
    "from nltk.stem import SnowballStemmer\n",
    "\n",
    "nltk.download('punkt')\n",
    "nltk.download('stopwords')\n",
    "nlp = spacy.load(\"es_core_news_sm\")"
   ]
  },
  {
   "cell_type": "markdown",
   "id": "a60db268",
   "metadata": {
    "vscode": {
     "languageId": "plaintext"
    }
   },
   "source": [
    "## Importacion de la Data"
   ]
  },
  {
   "cell_type": "code",
   "execution_count": 4,
   "id": "7ce1a9d8",
   "metadata": {},
   "outputs": [],
   "source": [
    "\n",
    "\n",
    "# Guardar en un dataframe\n",
    "def save_to_dataframe(db_path, table_name):\n",
    "    # Conectar a la base de datos SQLite\n",
    "    conn = sqlite3.connect(db_path)\n",
    "    \n",
    "    # Leer la tabla en un DataFrame de pandas\n",
    "    df = pd.read_sql_query(f\"SELECT * FROM {table_name}\", conn)\n",
    "    \n",
    "    # Cerrar la conexión\n",
    "    conn.close()\n",
    "    \n",
    "    return df\n",
    "\n",
    "\n"
   ]
  },
  {
   "cell_type": "markdown",
   "id": "e864be08",
   "metadata": {},
   "source": [
    "### Noticias"
   ]
  },
  {
   "cell_type": "code",
   "execution_count": 5,
   "id": "d7ef5c9e",
   "metadata": {},
   "outputs": [
    {
     "data": {
      "text/html": [
       "<div>\n",
       "<style scoped>\n",
       "    .dataframe tbody tr th:only-of-type {\n",
       "        vertical-align: middle;\n",
       "    }\n",
       "\n",
       "    .dataframe tbody tr th {\n",
       "        vertical-align: top;\n",
       "    }\n",
       "\n",
       "    .dataframe thead th {\n",
       "        text-align: right;\n",
       "    }\n",
       "</style>\n",
       "<table border=\"1\" class=\"dataframe\">\n",
       "  <thead>\n",
       "    <tr style=\"text-align: right;\">\n",
       "      <th></th>\n",
       "      <th>fecha</th>\n",
       "      <th>fuente</th>\n",
       "      <th>titulo</th>\n",
       "      <th>descripcion</th>\n",
       "      <th>url</th>\n",
       "    </tr>\n",
       "  </thead>\n",
       "  <tbody>\n",
       "    <tr>\n",
       "      <th>0</th>\n",
       "      <td>01/05/2025</td>\n",
       "      <td>Cointelegraph</td>\n",
       "      <td>CZ: Para tener libertad económica, hay que ten...</td>\n",
       "      <td>El cofundador de Binance dijo que la decisión ...</td>\n",
       "      <td>https://es.cointelegraph.com/news/to-have-free...</td>\n",
       "    </tr>\n",
       "    <tr>\n",
       "      <th>1</th>\n",
       "      <td>01/05/2025</td>\n",
       "      <td>Cointelegraph</td>\n",
       "      <td>Bitcoin se recuperó tras datos bajistas del PI...</td>\n",
       "      <td>Los alcistas de Bitcoin regresan con fuerza a ...</td>\n",
       "      <td>https://es.cointelegraph.com/news/bitcoin-rebo...</td>\n",
       "    </tr>\n",
       "    <tr>\n",
       "      <th>2</th>\n",
       "      <td>01/05/2025</td>\n",
       "      <td>Expansion.com</td>\n",
       "      <td>Qué siete valores del Ibex han marcado récord ...</td>\n",
       "      <td>Aena, Endesa, Iberdrola, Indra, Logista, Mapfr...</td>\n",
       "      <td>https://www.expansion.com/mercados/2025/05/01/...</td>\n",
       "    </tr>\n",
       "    <tr>\n",
       "      <th>3</th>\n",
       "      <td>01/05/2025</td>\n",
       "      <td>La Nacion</td>\n",
       "      <td>Una primera vuelta en medio de la furia</td>\n",
       "      <td>En medio de un proceso electoral que conmueve ...</td>\n",
       "      <td>https://www.lanacion.com.ar/politica/una-prime...</td>\n",
       "    </tr>\n",
       "    <tr>\n",
       "      <th>4</th>\n",
       "      <td>01/05/2025</td>\n",
       "      <td>Cointelegraph</td>\n",
       "      <td>Tether reporta 1.000 millones de dólares en ga...</td>\n",
       "      <td>El exceso actual de reservas de Tether está en...</td>\n",
       "      <td>https://es.cointelegraph.com/news/tether-1b-q1...</td>\n",
       "    </tr>\n",
       "    <tr>\n",
       "      <th>5</th>\n",
       "      <td>01/05/2025</td>\n",
       "      <td>Cointelegraph</td>\n",
       "      <td>La historia del \"desacoplamiento\" de las cript...</td>\n",
       "      <td>Las acciones suben junto a Bitcoin, cuestionan...</td>\n",
       "      <td>https://es.cointelegraph.com/news/crypto-decou...</td>\n",
       "    </tr>\n",
       "    <tr>\n",
       "      <th>6</th>\n",
       "      <td>30/04/2025</td>\n",
       "      <td>Cointelegraph</td>\n",
       "      <td>3 gráficos de Ethereum mostraron una señal que...</td>\n",
       "      <td>Un patrón de velas alcistas, una línea de tend...</td>\n",
       "      <td>https://es.cointelegraph.com/news/3-ethereum-c...</td>\n",
       "    </tr>\n",
       "    <tr>\n",
       "      <th>7</th>\n",
       "      <td>30/04/2025</td>\n",
       "      <td>Cointelegraph</td>\n",
       "      <td>Stablecoins alcanzarían los 2 billones de dóla...</td>\n",
       "      <td>La adopción de monedas estables podría acelera...</td>\n",
       "      <td>https://es.cointelegraph.com/news/stablecoins-...</td>\n",
       "    </tr>\n",
       "    <tr>\n",
       "      <th>8</th>\n",
       "      <td>30/04/2025</td>\n",
       "      <td>BeInCrypto</td>\n",
       "      <td>El PIB de EEUU alimenta preocupaciones de rece...</td>\n",
       "      <td>A pesar de los preocupantes informes económico...</td>\n",
       "      <td>https://es.beincrypto.com/pib-eeuu-preocupacio...</td>\n",
       "    </tr>\n",
       "    <tr>\n",
       "      <th>9</th>\n",
       "      <td>29/04/2025</td>\n",
       "      <td>Expansion.com</td>\n",
       "      <td>Trump, del júbilo al abismo</td>\n",
       "      <td>Tal vez es la idea que mejor describe la (re)l...</td>\n",
       "      <td>https://www.expansion.com/opinion/2025/04/30/6...</td>\n",
       "    </tr>\n",
       "  </tbody>\n",
       "</table>\n",
       "</div>"
      ],
      "text/plain": [
       "        fecha         fuente  \\\n",
       "0  01/05/2025  Cointelegraph   \n",
       "1  01/05/2025  Cointelegraph   \n",
       "2  01/05/2025  Expansion.com   \n",
       "3  01/05/2025      La Nacion   \n",
       "4  01/05/2025  Cointelegraph   \n",
       "5  01/05/2025  Cointelegraph   \n",
       "6  30/04/2025  Cointelegraph   \n",
       "7  30/04/2025  Cointelegraph   \n",
       "8  30/04/2025     BeInCrypto   \n",
       "9  29/04/2025  Expansion.com   \n",
       "\n",
       "                                              titulo  \\\n",
       "0  CZ: Para tener libertad económica, hay que ten...   \n",
       "1  Bitcoin se recuperó tras datos bajistas del PI...   \n",
       "2  Qué siete valores del Ibex han marcado récord ...   \n",
       "3            Una primera vuelta en medio de la furia   \n",
       "4  Tether reporta 1.000 millones de dólares en ga...   \n",
       "5  La historia del \"desacoplamiento\" de las cript...   \n",
       "6  3 gráficos de Ethereum mostraron una señal que...   \n",
       "7  Stablecoins alcanzarían los 2 billones de dóla...   \n",
       "8  El PIB de EEUU alimenta preocupaciones de rece...   \n",
       "9                        Trump, del júbilo al abismo   \n",
       "\n",
       "                                         descripcion  \\\n",
       "0  El cofundador de Binance dijo que la decisión ...   \n",
       "1  Los alcistas de Bitcoin regresan con fuerza a ...   \n",
       "2  Aena, Endesa, Iberdrola, Indra, Logista, Mapfr...   \n",
       "3  En medio de un proceso electoral que conmueve ...   \n",
       "4  El exceso actual de reservas de Tether está en...   \n",
       "5  Las acciones suben junto a Bitcoin, cuestionan...   \n",
       "6  Un patrón de velas alcistas, una línea de tend...   \n",
       "7  La adopción de monedas estables podría acelera...   \n",
       "8  A pesar de los preocupantes informes económico...   \n",
       "9  Tal vez es la idea que mejor describe la (re)l...   \n",
       "\n",
       "                                                 url  \n",
       "0  https://es.cointelegraph.com/news/to-have-free...  \n",
       "1  https://es.cointelegraph.com/news/bitcoin-rebo...  \n",
       "2  https://www.expansion.com/mercados/2025/05/01/...  \n",
       "3  https://www.lanacion.com.ar/politica/una-prime...  \n",
       "4  https://es.cointelegraph.com/news/tether-1b-q1...  \n",
       "5  https://es.cointelegraph.com/news/crypto-decou...  \n",
       "6  https://es.cointelegraph.com/news/3-ethereum-c...  \n",
       "7  https://es.cointelegraph.com/news/stablecoins-...  \n",
       "8  https://es.beincrypto.com/pib-eeuu-preocupacio...  \n",
       "9  https://www.expansion.com/opinion/2025/04/30/6...  "
      ]
     },
     "execution_count": 5,
     "metadata": {},
     "output_type": "execute_result"
    }
   ],
   "source": [
    "df_news=save_to_dataframe('../Datos/data.db', 'news')\n",
    "df_news.head(10)"
   ]
  },
  {
   "cell_type": "markdown",
   "id": "27f8287a",
   "metadata": {},
   "source": [
    "### Historico"
   ]
  },
  {
   "cell_type": "code",
   "execution_count": 6,
   "id": "1d29c67d",
   "metadata": {},
   "outputs": [
    {
     "data": {
      "text/html": [
       "<div>\n",
       "<style scoped>\n",
       "    .dataframe tbody tr th:only-of-type {\n",
       "        vertical-align: middle;\n",
       "    }\n",
       "\n",
       "    .dataframe tbody tr th {\n",
       "        vertical-align: top;\n",
       "    }\n",
       "\n",
       "    .dataframe thead th {\n",
       "        text-align: right;\n",
       "    }\n",
       "</style>\n",
       "<table border=\"1\" class=\"dataframe\">\n",
       "  <thead>\n",
       "    <tr style=\"text-align: right;\">\n",
       "      <th></th>\n",
       "      <th>Date</th>\n",
       "      <th>Close_COP=X</th>\n",
       "      <th>High_COP=X</th>\n",
       "      <th>Low_COP=X</th>\n",
       "      <th>Open_COP=X</th>\n",
       "      <th>SMA_30</th>\n",
       "    </tr>\n",
       "  </thead>\n",
       "  <tbody>\n",
       "    <tr>\n",
       "      <th>0</th>\n",
       "      <td>2020-05-04 00:00:00</td>\n",
       "      <td>3954.489990</td>\n",
       "      <td>3954.540039</td>\n",
       "      <td>3912.419189</td>\n",
       "      <td>3954.489990</td>\n",
       "      <td>NaN</td>\n",
       "    </tr>\n",
       "    <tr>\n",
       "      <th>1</th>\n",
       "      <td>2020-05-05 00:00:00</td>\n",
       "      <td>3986.909912</td>\n",
       "      <td>3990.000000</td>\n",
       "      <td>3986.810059</td>\n",
       "      <td>3986.909912</td>\n",
       "      <td>NaN</td>\n",
       "    </tr>\n",
       "    <tr>\n",
       "      <th>2</th>\n",
       "      <td>2020-05-06 00:00:00</td>\n",
       "      <td>3925.750000</td>\n",
       "      <td>3959.209961</td>\n",
       "      <td>3925.000000</td>\n",
       "      <td>3925.750000</td>\n",
       "      <td>NaN</td>\n",
       "    </tr>\n",
       "    <tr>\n",
       "      <th>3</th>\n",
       "      <td>2020-05-07 00:00:00</td>\n",
       "      <td>3961.520020</td>\n",
       "      <td>3963.000000</td>\n",
       "      <td>3914.760010</td>\n",
       "      <td>3961.520020</td>\n",
       "      <td>NaN</td>\n",
       "    </tr>\n",
       "    <tr>\n",
       "      <th>4</th>\n",
       "      <td>2020-05-08 00:00:00</td>\n",
       "      <td>3919.090088</td>\n",
       "      <td>3919.379883</td>\n",
       "      <td>3917.000000</td>\n",
       "      <td>3919.090088</td>\n",
       "      <td>NaN</td>\n",
       "    </tr>\n",
       "    <tr>\n",
       "      <th>...</th>\n",
       "      <td>...</td>\n",
       "      <td>...</td>\n",
       "      <td>...</td>\n",
       "      <td>...</td>\n",
       "      <td>...</td>\n",
       "      <td>...</td>\n",
       "    </tr>\n",
       "    <tr>\n",
       "      <th>95</th>\n",
       "      <td>2020-09-14 00:00:00</td>\n",
       "      <td>3703.760010</td>\n",
       "      <td>3720.280029</td>\n",
       "      <td>3663.654053</td>\n",
       "      <td>3703.760010</td>\n",
       "      <td>3758.382332</td>\n",
       "    </tr>\n",
       "    <tr>\n",
       "      <th>96</th>\n",
       "      <td>2020-09-15 00:00:00</td>\n",
       "      <td>3686.919922</td>\n",
       "      <td>3690.159912</td>\n",
       "      <td>3668.550049</td>\n",
       "      <td>3686.919922</td>\n",
       "      <td>3755.667993</td>\n",
       "    </tr>\n",
       "    <tr>\n",
       "      <th>97</th>\n",
       "      <td>2020-09-16 00:00:00</td>\n",
       "      <td>3698.360107</td>\n",
       "      <td>3717.449951</td>\n",
       "      <td>3668.127686</td>\n",
       "      <td>3698.360107</td>\n",
       "      <td>3752.938330</td>\n",
       "    </tr>\n",
       "    <tr>\n",
       "      <th>98</th>\n",
       "      <td>2020-09-17 00:00:00</td>\n",
       "      <td>3684.250000</td>\n",
       "      <td>3714.169922</td>\n",
       "      <td>3684.250000</td>\n",
       "      <td>3684.250000</td>\n",
       "      <td>3749.954997</td>\n",
       "    </tr>\n",
       "    <tr>\n",
       "      <th>99</th>\n",
       "      <td>2020-09-18 00:00:00</td>\n",
       "      <td>3713.370117</td>\n",
       "      <td>3730.419922</td>\n",
       "      <td>3672.497314</td>\n",
       "      <td>3713.370117</td>\n",
       "      <td>3749.042334</td>\n",
       "    </tr>\n",
       "  </tbody>\n",
       "</table>\n",
       "<p>100 rows × 6 columns</p>\n",
       "</div>"
      ],
      "text/plain": [
       "                   Date  Close_COP=X   High_COP=X    Low_COP=X   Open_COP=X  \\\n",
       "0   2020-05-04 00:00:00  3954.489990  3954.540039  3912.419189  3954.489990   \n",
       "1   2020-05-05 00:00:00  3986.909912  3990.000000  3986.810059  3986.909912   \n",
       "2   2020-05-06 00:00:00  3925.750000  3959.209961  3925.000000  3925.750000   \n",
       "3   2020-05-07 00:00:00  3961.520020  3963.000000  3914.760010  3961.520020   \n",
       "4   2020-05-08 00:00:00  3919.090088  3919.379883  3917.000000  3919.090088   \n",
       "..                  ...          ...          ...          ...          ...   \n",
       "95  2020-09-14 00:00:00  3703.760010  3720.280029  3663.654053  3703.760010   \n",
       "96  2020-09-15 00:00:00  3686.919922  3690.159912  3668.550049  3686.919922   \n",
       "97  2020-09-16 00:00:00  3698.360107  3717.449951  3668.127686  3698.360107   \n",
       "98  2020-09-17 00:00:00  3684.250000  3714.169922  3684.250000  3684.250000   \n",
       "99  2020-09-18 00:00:00  3713.370117  3730.419922  3672.497314  3713.370117   \n",
       "\n",
       "         SMA_30  \n",
       "0           NaN  \n",
       "1           NaN  \n",
       "2           NaN  \n",
       "3           NaN  \n",
       "4           NaN  \n",
       "..          ...  \n",
       "95  3758.382332  \n",
       "96  3755.667993  \n",
       "97  3752.938330  \n",
       "98  3749.954997  \n",
       "99  3749.042334  \n",
       "\n",
       "[100 rows x 6 columns]"
      ]
     },
     "execution_count": 6,
     "metadata": {},
     "output_type": "execute_result"
    }
   ],
   "source": [
    "df_hist=save_to_dataframe('../Datos/data.db', 'historic')\n",
    "df_hist.head(100)"
   ]
  },
  {
   "cell_type": "markdown",
   "id": "9c1ea13e",
   "metadata": {},
   "source": [
    "# Analisis de sentimientos"
   ]
  },
  {
   "cell_type": "code",
   "execution_count": 7,
   "id": "30d7f81e",
   "metadata": {},
   "outputs": [
    {
     "data": {
      "text/html": [
       "<div>\n",
       "<style scoped>\n",
       "    .dataframe tbody tr th:only-of-type {\n",
       "        vertical-align: middle;\n",
       "    }\n",
       "\n",
       "    .dataframe tbody tr th {\n",
       "        vertical-align: top;\n",
       "    }\n",
       "\n",
       "    .dataframe thead th {\n",
       "        text-align: right;\n",
       "    }\n",
       "</style>\n",
       "<table border=\"1\" class=\"dataframe\">\n",
       "  <thead>\n",
       "    <tr style=\"text-align: right;\">\n",
       "      <th></th>\n",
       "      <th>fecha</th>\n",
       "      <th>titulo</th>\n",
       "    </tr>\n",
       "  </thead>\n",
       "  <tbody>\n",
       "    <tr>\n",
       "      <th>0</th>\n",
       "      <td>01/05/2025</td>\n",
       "      <td>CZ: Para tener libertad económica, hay que ten...</td>\n",
       "    </tr>\n",
       "    <tr>\n",
       "      <th>1</th>\n",
       "      <td>01/05/2025</td>\n",
       "      <td>Bitcoin se recuperó tras datos bajistas del PI...</td>\n",
       "    </tr>\n",
       "    <tr>\n",
       "      <th>2</th>\n",
       "      <td>01/05/2025</td>\n",
       "      <td>Qué siete valores del Ibex han marcado récord ...</td>\n",
       "    </tr>\n",
       "    <tr>\n",
       "      <th>3</th>\n",
       "      <td>01/05/2025</td>\n",
       "      <td>Una primera vuelta en medio de la furia</td>\n",
       "    </tr>\n",
       "    <tr>\n",
       "      <th>4</th>\n",
       "      <td>01/05/2025</td>\n",
       "      <td>Tether reporta 1.000 millones de dólares en ga...</td>\n",
       "    </tr>\n",
       "  </tbody>\n",
       "</table>\n",
       "</div>"
      ],
      "text/plain": [
       "        fecha                                             titulo\n",
       "0  01/05/2025  CZ: Para tener libertad económica, hay que ten...\n",
       "1  01/05/2025  Bitcoin se recuperó tras datos bajistas del PI...\n",
       "2  01/05/2025  Qué siete valores del Ibex han marcado récord ...\n",
       "3  01/05/2025            Una primera vuelta en medio de la furia\n",
       "4  01/05/2025  Tether reporta 1.000 millones de dólares en ga..."
      ]
     },
     "execution_count": 7,
     "metadata": {},
     "output_type": "execute_result"
    }
   ],
   "source": [
    "df_sentiment=df_news[['fecha','titulo']]\n",
    "df_sentiment.head()"
   ]
  },
  {
   "cell_type": "code",
   "execution_count": 8,
   "id": "dba4613d",
   "metadata": {},
   "outputs": [],
   "source": [
    "stop_words = set(stopwords.words('spanish'))\n",
    "stemmer = SnowballStemmer('spanish')\n",
    "def preprocess_text(texto):\n",
    "    if not isinstance(texto, str):\n",
    "        return \"\"\n",
    "    texto = texto.lower()\n",
    "    doc = nlp(texto)\n",
    "    tokens = [token.text for token in doc if token.is_alpha]\n",
    "    tokens = [t for t in tokens if t not in stop_words]\n",
    "    tokens = [stemmer.stem(t) for t in tokens]\n",
    "    return ' '.join(tokens)"
   ]
  },
  {
   "cell_type": "code",
   "execution_count": 9,
   "id": "83b6285e",
   "metadata": {},
   "outputs": [
    {
     "name": "stderr",
     "output_type": "stream",
     "text": [
      "C:\\Users\\equipo\\AppData\\Local\\Temp\\ipykernel_3356\\3133770228.py:1: SettingWithCopyWarning: \n",
      "A value is trying to be set on a copy of a slice from a DataFrame.\n",
      "Try using .loc[row_indexer,col_indexer] = value instead\n",
      "\n",
      "See the caveats in the documentation: https://pandas.pydata.org/pandas-docs/stable/user_guide/indexing.html#returning-a-view-versus-a-copy\n",
      "  df_sentiment['texto_procesado'] = df_sentiment['titulo'].apply(preprocess_text)\n"
     ]
    }
   ],
   "source": [
    "df_sentiment['texto_procesado'] = df_sentiment['titulo'].apply(preprocess_text)"
   ]
  },
  {
   "cell_type": "code",
   "execution_count": 10,
   "id": "6719e7e7",
   "metadata": {},
   "outputs": [
    {
     "data": {
      "text/html": [
       "<div>\n",
       "<style scoped>\n",
       "    .dataframe tbody tr th:only-of-type {\n",
       "        vertical-align: middle;\n",
       "    }\n",
       "\n",
       "    .dataframe tbody tr th {\n",
       "        vertical-align: top;\n",
       "    }\n",
       "\n",
       "    .dataframe thead th {\n",
       "        text-align: right;\n",
       "    }\n",
       "</style>\n",
       "<table border=\"1\" class=\"dataframe\">\n",
       "  <thead>\n",
       "    <tr style=\"text-align: right;\">\n",
       "      <th></th>\n",
       "      <th>fecha</th>\n",
       "      <th>titulo</th>\n",
       "      <th>texto_procesado</th>\n",
       "    </tr>\n",
       "  </thead>\n",
       "  <tbody>\n",
       "    <tr>\n",
       "      <th>0</th>\n",
       "      <td>01/05/2025</td>\n",
       "      <td>CZ: Para tener libertad económica, hay que ten...</td>\n",
       "      <td>cz ten libert econom ten libert expresion</td>\n",
       "    </tr>\n",
       "    <tr>\n",
       "      <th>1</th>\n",
       "      <td>01/05/2025</td>\n",
       "      <td>Bitcoin se recuperó tras datos bajistas del PI...</td>\n",
       "      <td>bitcoin recuper tras dat bajist pib eeuu mient...</td>\n",
       "    </tr>\n",
       "    <tr>\n",
       "      <th>2</th>\n",
       "      <td>01/05/2025</td>\n",
       "      <td>Qué siete valores del Ibex han marcado récord ...</td>\n",
       "      <td>siet valor ibex marc record abril</td>\n",
       "    </tr>\n",
       "    <tr>\n",
       "      <th>3</th>\n",
       "      <td>01/05/2025</td>\n",
       "      <td>Una primera vuelta en medio de la furia</td>\n",
       "      <td>primer vuelt medi furi</td>\n",
       "    </tr>\n",
       "    <tr>\n",
       "      <th>4</th>\n",
       "      <td>01/05/2025</td>\n",
       "      <td>Tether reporta 1.000 millones de dólares en ga...</td>\n",
       "      <td>teth report millon dolar gananci oper prim tri...</td>\n",
       "    </tr>\n",
       "  </tbody>\n",
       "</table>\n",
       "</div>"
      ],
      "text/plain": [
       "        fecha                                             titulo  \\\n",
       "0  01/05/2025  CZ: Para tener libertad económica, hay que ten...   \n",
       "1  01/05/2025  Bitcoin se recuperó tras datos bajistas del PI...   \n",
       "2  01/05/2025  Qué siete valores del Ibex han marcado récord ...   \n",
       "3  01/05/2025            Una primera vuelta en medio de la furia   \n",
       "4  01/05/2025  Tether reporta 1.000 millones de dólares en ga...   \n",
       "\n",
       "                                     texto_procesado  \n",
       "0          cz ten libert econom ten libert expresion  \n",
       "1  bitcoin recuper tras dat bajist pib eeuu mient...  \n",
       "2                  siet valor ibex marc record abril  \n",
       "3                             primer vuelt medi furi  \n",
       "4  teth report millon dolar gananci oper prim tri...  "
      ]
     },
     "execution_count": 10,
     "metadata": {},
     "output_type": "execute_result"
    }
   ],
   "source": [
    "df_sentiment.head()"
   ]
  },
  {
   "cell_type": "code",
   "execution_count": 11,
   "id": "6cd3ccce",
   "metadata": {},
   "outputs": [
    {
     "name": "stderr",
     "output_type": "stream",
     "text": [
      "c:\\Users\\equipo\\AppData\\Local\\Programs\\Python\\Python311\\Lib\\site-packages\\tqdm\\auto.py:21: TqdmWarning: IProgress not found. Please update jupyter and ipywidgets. See https://ipywidgets.readthedocs.io/en/stable/user_install.html\n",
      "  from .autonotebook import tqdm as notebook_tqdm\n",
      "Device set to use cpu\n"
     ]
    }
   ],
   "source": [
    "# Implementacion transformers para sentimiento\n",
    "from transformers import pipeline\n",
    "\n",
    "sentiment_pipeline = pipeline(\"sentiment-analysis\", model=\"nlptown/bert-base-multilingual-uncased-sentiment\")\n",
    "\n",
    "\n",
    "# Aplicar análisis de sentimiento y guardar los resultados\n",
    "resultados = df_sentiment[\"texto_procesado\"].apply(lambda x: sentiment_pipeline(x)[0])"
   ]
  },
  {
   "cell_type": "code",
   "execution_count": 12,
   "id": "39b23f6a",
   "metadata": {},
   "outputs": [
    {
     "name": "stderr",
     "output_type": "stream",
     "text": [
      "C:\\Users\\equipo\\AppData\\Local\\Temp\\ipykernel_3356\\1764502434.py:1: SettingWithCopyWarning: \n",
      "A value is trying to be set on a copy of a slice from a DataFrame.\n",
      "Try using .loc[row_indexer,col_indexer] = value instead\n",
      "\n",
      "See the caveats in the documentation: https://pandas.pydata.org/pandas-docs/stable/user_guide/indexing.html#returning-a-view-versus-a-copy\n",
      "  df_sentiment['puntaje']=resultados.apply(lambda x: x[\"score\"])\n"
     ]
    }
   ],
   "source": [
    "df_sentiment['puntaje']=resultados.apply(lambda x: x[\"score\"])"
   ]
  },
  {
   "cell_type": "code",
   "execution_count": 13,
   "id": "65f48306",
   "metadata": {},
   "outputs": [
    {
     "name": "stderr",
     "output_type": "stream",
     "text": [
      "C:\\Users\\equipo\\AppData\\Local\\Temp\\ipykernel_3356\\914804743.py:1: SettingWithCopyWarning: \n",
      "A value is trying to be set on a copy of a slice from a DataFrame.\n",
      "Try using .loc[row_indexer,col_indexer] = value instead\n",
      "\n",
      "See the caveats in the documentation: https://pandas.pydata.org/pandas-docs/stable/user_guide/indexing.html#returning-a-view-versus-a-copy\n",
      "  df_sentiment['puntaje']=df_sentiment['puntaje'].apply(lambda x: 2*x-1)\n"
     ]
    }
   ],
   "source": [
    "df_sentiment['puntaje']=df_sentiment['puntaje'].apply(lambda x: 2*x-1)"
   ]
  },
  {
   "cell_type": "code",
   "execution_count": 14,
   "id": "87164ff4",
   "metadata": {},
   "outputs": [
    {
     "data": {
      "text/html": [
       "<div>\n",
       "<style scoped>\n",
       "    .dataframe tbody tr th:only-of-type {\n",
       "        vertical-align: middle;\n",
       "    }\n",
       "\n",
       "    .dataframe tbody tr th {\n",
       "        vertical-align: top;\n",
       "    }\n",
       "\n",
       "    .dataframe thead th {\n",
       "        text-align: right;\n",
       "    }\n",
       "</style>\n",
       "<table border=\"1\" class=\"dataframe\">\n",
       "  <thead>\n",
       "    <tr style=\"text-align: right;\">\n",
       "      <th></th>\n",
       "      <th>fecha</th>\n",
       "      <th>titulo</th>\n",
       "      <th>texto_procesado</th>\n",
       "      <th>puntaje</th>\n",
       "    </tr>\n",
       "  </thead>\n",
       "  <tbody>\n",
       "    <tr>\n",
       "      <th>0</th>\n",
       "      <td>01/05/2025</td>\n",
       "      <td>CZ: Para tener libertad económica, hay que ten...</td>\n",
       "      <td>cz ten libert econom ten libert expresion</td>\n",
       "      <td>-0.267648</td>\n",
       "    </tr>\n",
       "    <tr>\n",
       "      <th>1</th>\n",
       "      <td>01/05/2025</td>\n",
       "      <td>Bitcoin se recuperó tras datos bajistas del PI...</td>\n",
       "      <td>bitcoin recuper tras dat bajist pib eeuu mient...</td>\n",
       "      <td>-0.048909</td>\n",
       "    </tr>\n",
       "    <tr>\n",
       "      <th>2</th>\n",
       "      <td>01/05/2025</td>\n",
       "      <td>Qué siete valores del Ibex han marcado récord ...</td>\n",
       "      <td>siet valor ibex marc record abril</td>\n",
       "      <td>-0.358582</td>\n",
       "    </tr>\n",
       "    <tr>\n",
       "      <th>3</th>\n",
       "      <td>01/05/2025</td>\n",
       "      <td>Una primera vuelta en medio de la furia</td>\n",
       "      <td>primer vuelt medi furi</td>\n",
       "      <td>-0.355365</td>\n",
       "    </tr>\n",
       "    <tr>\n",
       "      <th>4</th>\n",
       "      <td>01/05/2025</td>\n",
       "      <td>Tether reporta 1.000 millones de dólares en ga...</td>\n",
       "      <td>teth report millon dolar gananci oper prim tri...</td>\n",
       "      <td>0.135429</td>\n",
       "    </tr>\n",
       "    <tr>\n",
       "      <th>5</th>\n",
       "      <td>01/05/2025</td>\n",
       "      <td>La historia del \"desacoplamiento\" de las cript...</td>\n",
       "      <td>histori desacopl criptomoned termin accion sig...</td>\n",
       "      <td>0.317125</td>\n",
       "    </tr>\n",
       "    <tr>\n",
       "      <th>6</th>\n",
       "      <td>30/04/2025</td>\n",
       "      <td>3 gráficos de Ethereum mostraron una señal que...</td>\n",
       "      <td>grafic ethereum mostr señal vio sub</td>\n",
       "      <td>-0.502416</td>\n",
       "    </tr>\n",
       "    <tr>\n",
       "      <th>7</th>\n",
       "      <td>30/04/2025</td>\n",
       "      <td>Stablecoins alcanzarían los 2 billones de dóla...</td>\n",
       "      <td>stablecoins alcanz billon dolar capitaliz merc</td>\n",
       "      <td>-0.039940</td>\n",
       "    </tr>\n",
       "    <tr>\n",
       "      <th>8</th>\n",
       "      <td>30/04/2025</td>\n",
       "      <td>El PIB de EEUU alimenta preocupaciones de rece...</td>\n",
       "      <td>pib eeuu aliment preocup recesion bitcoin mant...</td>\n",
       "      <td>-0.565011</td>\n",
       "    </tr>\n",
       "    <tr>\n",
       "      <th>9</th>\n",
       "      <td>29/04/2025</td>\n",
       "      <td>Trump, del júbilo al abismo</td>\n",
       "      <td>trump jubil abism</td>\n",
       "      <td>-0.487561</td>\n",
       "    </tr>\n",
       "  </tbody>\n",
       "</table>\n",
       "</div>"
      ],
      "text/plain": [
       "        fecha                                             titulo  \\\n",
       "0  01/05/2025  CZ: Para tener libertad económica, hay que ten...   \n",
       "1  01/05/2025  Bitcoin se recuperó tras datos bajistas del PI...   \n",
       "2  01/05/2025  Qué siete valores del Ibex han marcado récord ...   \n",
       "3  01/05/2025            Una primera vuelta en medio de la furia   \n",
       "4  01/05/2025  Tether reporta 1.000 millones de dólares en ga...   \n",
       "5  01/05/2025  La historia del \"desacoplamiento\" de las cript...   \n",
       "6  30/04/2025  3 gráficos de Ethereum mostraron una señal que...   \n",
       "7  30/04/2025  Stablecoins alcanzarían los 2 billones de dóla...   \n",
       "8  30/04/2025  El PIB de EEUU alimenta preocupaciones de rece...   \n",
       "9  29/04/2025                        Trump, del júbilo al abismo   \n",
       "\n",
       "                                     texto_procesado   puntaje  \n",
       "0          cz ten libert econom ten libert expresion -0.267648  \n",
       "1  bitcoin recuper tras dat bajist pib eeuu mient... -0.048909  \n",
       "2                  siet valor ibex marc record abril -0.358582  \n",
       "3                             primer vuelt medi furi -0.355365  \n",
       "4  teth report millon dolar gananci oper prim tri...  0.135429  \n",
       "5  histori desacopl criptomoned termin accion sig...  0.317125  \n",
       "6                grafic ethereum mostr señal vio sub -0.502416  \n",
       "7     stablecoins alcanz billon dolar capitaliz merc -0.039940  \n",
       "8  pib eeuu aliment preocup recesion bitcoin mant... -0.565011  \n",
       "9                                  trump jubil abism -0.487561  "
      ]
     },
     "execution_count": 14,
     "metadata": {},
     "output_type": "execute_result"
    }
   ],
   "source": [
    "df_sentiment.head(10)"
   ]
  },
  {
   "cell_type": "code",
   "execution_count": 15,
   "id": "bc9f1ca4",
   "metadata": {},
   "outputs": [
    {
     "name": "stdout",
     "output_type": "stream",
     "text": [
      "<class 'pandas.core.frame.DataFrame'>\n",
      "RangeIndex: 45 entries, 0 to 44\n",
      "Data columns (total 4 columns):\n",
      " #   Column           Non-Null Count  Dtype  \n",
      "---  ------           --------------  -----  \n",
      " 0   fecha            45 non-null     object \n",
      " 1   titulo           45 non-null     object \n",
      " 2   texto_procesado  45 non-null     object \n",
      " 3   puntaje          45 non-null     float64\n",
      "dtypes: float64(1), object(3)\n",
      "memory usage: 1.5+ KB\n"
     ]
    }
   ],
   "source": [
    "df_sentiment.info()"
   ]
  },
  {
   "cell_type": "code",
   "execution_count": 16,
   "id": "ba50a3d5",
   "metadata": {},
   "outputs": [
    {
     "data": {
      "text/plain": [
       "fecha\n",
       "01/05/2025    6\n",
       "30/04/2025    3\n",
       "29/04/2025    3\n",
       "28/04/2025    3\n",
       "27/04/2025    3\n",
       "26/04/2025    3\n",
       "25/04/2025    3\n",
       "24/04/2025    3\n",
       "23/04/2025    3\n",
       "22/04/2025    3\n",
       "21/04/2025    3\n",
       "20/04/2025    3\n",
       "19/04/2025    3\n",
       "18/04/2025    3\n",
       "Name: count, dtype: int64"
      ]
     },
     "execution_count": 16,
     "metadata": {},
     "output_type": "execute_result"
    }
   ],
   "source": [
    "df_sentiment['fecha'].value_counts()"
   ]
  },
  {
   "cell_type": "markdown",
   "id": "4a2c45c4",
   "metadata": {},
   "source": [
    "# Dataframe para el modelo"
   ]
  },
  {
   "cell_type": "code",
   "execution_count": 17,
   "id": "957cc390",
   "metadata": {},
   "outputs": [],
   "source": [
    "# Guardar el dataframe en la base de datos\n",
    "import sqlite3\n",
    "from datetime import datetime\n",
    "import pandas as pd\n",
    "import os\n",
    "\n",
    "def save_to_db(df, db_path, table_name):\n",
    "    # Conectar a la base de datos SQLite (o crearla si no existe)\n",
    "    conn = sqlite3.connect(db_path)\n",
    "    \n",
    "    # Guardar el DataFrame en la tabla especificada\n",
    "    df.to_sql(table_name, conn, if_exists='replace', index=False)\n",
    "    \n",
    "    # Cerrar la conexión\n",
    "    conn.close()\n",
    "\n",
    "# Guardar el DataFrame en la base de datos\n",
    "save_to_db(df_sentiment, '../Datos/data.db', 'Noticias_Sentimiento')"
   ]
  },
  {
   "cell_type": "code",
   "execution_count": 19,
   "id": "0654dd0c",
   "metadata": {},
   "outputs": [
    {
     "data": {
      "text/html": [
       "<div>\n",
       "<style scoped>\n",
       "    .dataframe tbody tr th:only-of-type {\n",
       "        vertical-align: middle;\n",
       "    }\n",
       "\n",
       "    .dataframe tbody tr th {\n",
       "        vertical-align: top;\n",
       "    }\n",
       "\n",
       "    .dataframe thead th {\n",
       "        text-align: right;\n",
       "    }\n",
       "</style>\n",
       "<table border=\"1\" class=\"dataframe\">\n",
       "  <thead>\n",
       "    <tr style=\"text-align: right;\">\n",
       "      <th></th>\n",
       "      <th>Date</th>\n",
       "      <th>Close_COP=X</th>\n",
       "      <th>High_COP=X</th>\n",
       "      <th>Low_COP=X</th>\n",
       "      <th>Open_COP=X</th>\n",
       "      <th>SMA_30</th>\n",
       "    </tr>\n",
       "  </thead>\n",
       "  <tbody>\n",
       "    <tr>\n",
       "      <th>0</th>\n",
       "      <td>2020-05-04 00:00:00</td>\n",
       "      <td>3954.489990</td>\n",
       "      <td>3954.540039</td>\n",
       "      <td>3912.419189</td>\n",
       "      <td>3954.489990</td>\n",
       "      <td>NaN</td>\n",
       "    </tr>\n",
       "    <tr>\n",
       "      <th>1</th>\n",
       "      <td>2020-05-05 00:00:00</td>\n",
       "      <td>3986.909912</td>\n",
       "      <td>3990.000000</td>\n",
       "      <td>3986.810059</td>\n",
       "      <td>3986.909912</td>\n",
       "      <td>NaN</td>\n",
       "    </tr>\n",
       "    <tr>\n",
       "      <th>2</th>\n",
       "      <td>2020-05-06 00:00:00</td>\n",
       "      <td>3925.750000</td>\n",
       "      <td>3959.209961</td>\n",
       "      <td>3925.000000</td>\n",
       "      <td>3925.750000</td>\n",
       "      <td>NaN</td>\n",
       "    </tr>\n",
       "    <tr>\n",
       "      <th>3</th>\n",
       "      <td>2020-05-07 00:00:00</td>\n",
       "      <td>3961.520020</td>\n",
       "      <td>3963.000000</td>\n",
       "      <td>3914.760010</td>\n",
       "      <td>3961.520020</td>\n",
       "      <td>NaN</td>\n",
       "    </tr>\n",
       "    <tr>\n",
       "      <th>4</th>\n",
       "      <td>2020-05-08 00:00:00</td>\n",
       "      <td>3919.090088</td>\n",
       "      <td>3919.379883</td>\n",
       "      <td>3917.000000</td>\n",
       "      <td>3919.090088</td>\n",
       "      <td>NaN</td>\n",
       "    </tr>\n",
       "  </tbody>\n",
       "</table>\n",
       "</div>"
      ],
      "text/plain": [
       "                  Date  Close_COP=X   High_COP=X    Low_COP=X   Open_COP=X  \\\n",
       "0  2020-05-04 00:00:00  3954.489990  3954.540039  3912.419189  3954.489990   \n",
       "1  2020-05-05 00:00:00  3986.909912  3990.000000  3986.810059  3986.909912   \n",
       "2  2020-05-06 00:00:00  3925.750000  3959.209961  3925.000000  3925.750000   \n",
       "3  2020-05-07 00:00:00  3961.520020  3963.000000  3914.760010  3961.520020   \n",
       "4  2020-05-08 00:00:00  3919.090088  3919.379883  3917.000000  3919.090088   \n",
       "\n",
       "   SMA_30  \n",
       "0     NaN  \n",
       "1     NaN  \n",
       "2     NaN  \n",
       "3     NaN  \n",
       "4     NaN  "
      ]
     },
     "execution_count": 19,
     "metadata": {},
     "output_type": "execute_result"
    }
   ],
   "source": [
    "df_hist.head()"
   ]
  },
  {
   "cell_type": "code",
   "execution_count": 18,
   "id": "cb315273",
   "metadata": {},
   "outputs": [
    {
     "data": {
      "text/html": [
       "<div>\n",
       "<style scoped>\n",
       "    .dataframe tbody tr th:only-of-type {\n",
       "        vertical-align: middle;\n",
       "    }\n",
       "\n",
       "    .dataframe tbody tr th {\n",
       "        vertical-align: top;\n",
       "    }\n",
       "\n",
       "    .dataframe thead th {\n",
       "        text-align: right;\n",
       "    }\n",
       "</style>\n",
       "<table border=\"1\" class=\"dataframe\">\n",
       "  <thead>\n",
       "    <tr style=\"text-align: right;\">\n",
       "      <th></th>\n",
       "      <th>fecha</th>\n",
       "      <th>titulo</th>\n",
       "      <th>texto_procesado</th>\n",
       "      <th>puntaje</th>\n",
       "    </tr>\n",
       "  </thead>\n",
       "  <tbody>\n",
       "    <tr>\n",
       "      <th>0</th>\n",
       "      <td>01/05/2025</td>\n",
       "      <td>CZ: Para tener libertad económica, hay que ten...</td>\n",
       "      <td>cz ten libert econom ten libert expresion</td>\n",
       "      <td>-0.267648</td>\n",
       "    </tr>\n",
       "    <tr>\n",
       "      <th>1</th>\n",
       "      <td>01/05/2025</td>\n",
       "      <td>Bitcoin se recuperó tras datos bajistas del PI...</td>\n",
       "      <td>bitcoin recuper tras dat bajist pib eeuu mient...</td>\n",
       "      <td>-0.048909</td>\n",
       "    </tr>\n",
       "    <tr>\n",
       "      <th>2</th>\n",
       "      <td>01/05/2025</td>\n",
       "      <td>Qué siete valores del Ibex han marcado récord ...</td>\n",
       "      <td>siet valor ibex marc record abril</td>\n",
       "      <td>-0.358582</td>\n",
       "    </tr>\n",
       "    <tr>\n",
       "      <th>3</th>\n",
       "      <td>01/05/2025</td>\n",
       "      <td>Una primera vuelta en medio de la furia</td>\n",
       "      <td>primer vuelt medi furi</td>\n",
       "      <td>-0.355365</td>\n",
       "    </tr>\n",
       "    <tr>\n",
       "      <th>4</th>\n",
       "      <td>01/05/2025</td>\n",
       "      <td>Tether reporta 1.000 millones de dólares en ga...</td>\n",
       "      <td>teth report millon dolar gananci oper prim tri...</td>\n",
       "      <td>0.135429</td>\n",
       "    </tr>\n",
       "  </tbody>\n",
       "</table>\n",
       "</div>"
      ],
      "text/plain": [
       "        fecha                                             titulo  \\\n",
       "0  01/05/2025  CZ: Para tener libertad económica, hay que ten...   \n",
       "1  01/05/2025  Bitcoin se recuperó tras datos bajistas del PI...   \n",
       "2  01/05/2025  Qué siete valores del Ibex han marcado récord ...   \n",
       "3  01/05/2025            Una primera vuelta en medio de la furia   \n",
       "4  01/05/2025  Tether reporta 1.000 millones de dólares en ga...   \n",
       "\n",
       "                                     texto_procesado   puntaje  \n",
       "0          cz ten libert econom ten libert expresion -0.267648  \n",
       "1  bitcoin recuper tras dat bajist pib eeuu mient... -0.048909  \n",
       "2                  siet valor ibex marc record abril -0.358582  \n",
       "3                             primer vuelt medi furi -0.355365  \n",
       "4  teth report millon dolar gananci oper prim tri...  0.135429  "
      ]
     },
     "execution_count": 18,
     "metadata": {},
     "output_type": "execute_result"
    }
   ],
   "source": [
    "df_sentiment.head()"
   ]
  },
  {
   "cell_type": "markdown",
   "id": "f1094940",
   "metadata": {},
   "source": [
    "## Agrupar por fecha y puntaje promedio"
   ]
  },
  {
   "cell_type": "code",
   "execution_count": 31,
   "id": "a03dada3",
   "metadata": {},
   "outputs": [
    {
     "data": {
      "text/html": [
       "<div>\n",
       "<style scoped>\n",
       "    .dataframe tbody tr th:only-of-type {\n",
       "        vertical-align: middle;\n",
       "    }\n",
       "\n",
       "    .dataframe tbody tr th {\n",
       "        vertical-align: top;\n",
       "    }\n",
       "\n",
       "    .dataframe thead th {\n",
       "        text-align: right;\n",
       "    }\n",
       "</style>\n",
       "<table border=\"1\" class=\"dataframe\">\n",
       "  <thead>\n",
       "    <tr style=\"text-align: right;\">\n",
       "      <th></th>\n",
       "      <th>fecha</th>\n",
       "      <th>puntaje</th>\n",
       "    </tr>\n",
       "  </thead>\n",
       "  <tbody>\n",
       "    <tr>\n",
       "      <th>0</th>\n",
       "      <td>01/05/2025</td>\n",
       "      <td>-0.096325</td>\n",
       "    </tr>\n",
       "    <tr>\n",
       "      <th>1</th>\n",
       "      <td>18/04/2025</td>\n",
       "      <td>-0.240917</td>\n",
       "    </tr>\n",
       "    <tr>\n",
       "      <th>2</th>\n",
       "      <td>19/04/2025</td>\n",
       "      <td>-0.236512</td>\n",
       "    </tr>\n",
       "    <tr>\n",
       "      <th>3</th>\n",
       "      <td>20/04/2025</td>\n",
       "      <td>0.048789</td>\n",
       "    </tr>\n",
       "    <tr>\n",
       "      <th>4</th>\n",
       "      <td>21/04/2025</td>\n",
       "      <td>-0.348876</td>\n",
       "    </tr>\n",
       "    <tr>\n",
       "      <th>5</th>\n",
       "      <td>22/04/2025</td>\n",
       "      <td>-0.290782</td>\n",
       "    </tr>\n",
       "    <tr>\n",
       "      <th>6</th>\n",
       "      <td>23/04/2025</td>\n",
       "      <td>0.102541</td>\n",
       "    </tr>\n",
       "    <tr>\n",
       "      <th>7</th>\n",
       "      <td>24/04/2025</td>\n",
       "      <td>-0.039542</td>\n",
       "    </tr>\n",
       "    <tr>\n",
       "      <th>8</th>\n",
       "      <td>25/04/2025</td>\n",
       "      <td>-0.008274</td>\n",
       "    </tr>\n",
       "    <tr>\n",
       "      <th>9</th>\n",
       "      <td>26/04/2025</td>\n",
       "      <td>-0.143741</td>\n",
       "    </tr>\n",
       "  </tbody>\n",
       "</table>\n",
       "</div>"
      ],
      "text/plain": [
       "        fecha   puntaje\n",
       "0  01/05/2025 -0.096325\n",
       "1  18/04/2025 -0.240917\n",
       "2  19/04/2025 -0.236512\n",
       "3  20/04/2025  0.048789\n",
       "4  21/04/2025 -0.348876\n",
       "5  22/04/2025 -0.290782\n",
       "6  23/04/2025  0.102541\n",
       "7  24/04/2025 -0.039542\n",
       "8  25/04/2025 -0.008274\n",
       "9  26/04/2025 -0.143741"
      ]
     },
     "execution_count": 31,
     "metadata": {},
     "output_type": "execute_result"
    }
   ],
   "source": [
    "#df_sentiment=df_sentiment[['fecha','titulo','puntaje']]\n",
    "df_sentiment=df_sentiment.groupby(['fecha']).agg({'puntaje':'mean'}).reset_index()\n",
    "df_sentiment.head(10)"
   ]
  },
  {
   "cell_type": "code",
   "execution_count": 44,
   "id": "f399aad9",
   "metadata": {},
   "outputs": [],
   "source": [
    "df_hist = df_hist[['Date','Close_COP=X']]"
   ]
  },
  {
   "cell_type": "code",
   "execution_count": 45,
   "id": "f40d3763",
   "metadata": {},
   "outputs": [
    {
     "name": "stderr",
     "output_type": "stream",
     "text": [
      "C:\\Users\\equipo\\AppData\\Local\\Temp\\ipykernel_3356\\1285395013.py:1: SettingWithCopyWarning: \n",
      "A value is trying to be set on a copy of a slice from a DataFrame.\n",
      "Try using .loc[row_indexer,col_indexer] = value instead\n",
      "\n",
      "See the caveats in the documentation: https://pandas.pydata.org/pandas-docs/stable/user_guide/indexing.html#returning-a-view-versus-a-copy\n",
      "  df_hist['Date'] = pd.to_datetime(df_hist['Date'], format='%d/%m/%Y')\n"
     ]
    }
   ],
   "source": [
    "df_hist['Date'] = pd.to_datetime(df_hist['Date'], format='%d/%m/%Y') \n",
    "df_sentiment['fecha'] = pd.to_datetime(df_sentiment['fecha'], format='%d/%m/%Y')"
   ]
  },
  {
   "cell_type": "code",
   "execution_count": 52,
   "id": "65cb3534",
   "metadata": {},
   "outputs": [
    {
     "name": "stdout",
     "output_type": "stream",
     "text": [
      "<class 'pandas.core.frame.DataFrame'>\n",
      "RangeIndex: 1301 entries, 0 to 1300\n",
      "Data columns (total 3 columns):\n",
      " #   Column       Non-Null Count  Dtype         \n",
      "---  ------       --------------  -----         \n",
      " 0   Date         1301 non-null   datetime64[ns]\n",
      " 1   Close_COP=X  1301 non-null   float64       \n",
      " 2   puntaje      1301 non-null   float64       \n",
      "dtypes: datetime64[ns](1), float64(2)\n",
      "memory usage: 30.6 KB\n"
     ]
    },
    {
     "data": {
      "text/html": [
       "<div>\n",
       "<style scoped>\n",
       "    .dataframe tbody tr th:only-of-type {\n",
       "        vertical-align: middle;\n",
       "    }\n",
       "\n",
       "    .dataframe tbody tr th {\n",
       "        vertical-align: top;\n",
       "    }\n",
       "\n",
       "    .dataframe thead th {\n",
       "        text-align: right;\n",
       "    }\n",
       "</style>\n",
       "<table border=\"1\" class=\"dataframe\">\n",
       "  <thead>\n",
       "    <tr style=\"text-align: right;\">\n",
       "      <th></th>\n",
       "      <th>Date</th>\n",
       "      <th>Close_COP=X</th>\n",
       "      <th>puntaje</th>\n",
       "    </tr>\n",
       "  </thead>\n",
       "  <tbody>\n",
       "    <tr>\n",
       "      <th>0</th>\n",
       "      <td>2020-05-04</td>\n",
       "      <td>3954.489990</td>\n",
       "      <td>0.0</td>\n",
       "    </tr>\n",
       "    <tr>\n",
       "      <th>1</th>\n",
       "      <td>2020-05-05</td>\n",
       "      <td>3986.909912</td>\n",
       "      <td>0.0</td>\n",
       "    </tr>\n",
       "    <tr>\n",
       "      <th>2</th>\n",
       "      <td>2020-05-06</td>\n",
       "      <td>3925.750000</td>\n",
       "      <td>0.0</td>\n",
       "    </tr>\n",
       "    <tr>\n",
       "      <th>3</th>\n",
       "      <td>2020-05-07</td>\n",
       "      <td>3961.520020</td>\n",
       "      <td>0.0</td>\n",
       "    </tr>\n",
       "    <tr>\n",
       "      <th>4</th>\n",
       "      <td>2020-05-08</td>\n",
       "      <td>3919.090088</td>\n",
       "      <td>0.0</td>\n",
       "    </tr>\n",
       "    <tr>\n",
       "      <th>5</th>\n",
       "      <td>2020-05-11</td>\n",
       "      <td>3894.750000</td>\n",
       "      <td>0.0</td>\n",
       "    </tr>\n",
       "    <tr>\n",
       "      <th>6</th>\n",
       "      <td>2020-05-12</td>\n",
       "      <td>3896.010010</td>\n",
       "      <td>0.0</td>\n",
       "    </tr>\n",
       "    <tr>\n",
       "      <th>7</th>\n",
       "      <td>2020-05-13</td>\n",
       "      <td>3883.000000</td>\n",
       "      <td>0.0</td>\n",
       "    </tr>\n",
       "    <tr>\n",
       "      <th>8</th>\n",
       "      <td>2020-05-14</td>\n",
       "      <td>3906.260010</td>\n",
       "      <td>0.0</td>\n",
       "    </tr>\n",
       "    <tr>\n",
       "      <th>9</th>\n",
       "      <td>2020-05-15</td>\n",
       "      <td>3940.260010</td>\n",
       "      <td>0.0</td>\n",
       "    </tr>\n",
       "  </tbody>\n",
       "</table>\n",
       "</div>"
      ],
      "text/plain": [
       "        Date  Close_COP=X  puntaje\n",
       "0 2020-05-04  3954.489990      0.0\n",
       "1 2020-05-05  3986.909912      0.0\n",
       "2 2020-05-06  3925.750000      0.0\n",
       "3 2020-05-07  3961.520020      0.0\n",
       "4 2020-05-08  3919.090088      0.0\n",
       "5 2020-05-11  3894.750000      0.0\n",
       "6 2020-05-12  3896.010010      0.0\n",
       "7 2020-05-13  3883.000000      0.0\n",
       "8 2020-05-14  3906.260010      0.0\n",
       "9 2020-05-15  3940.260010      0.0"
      ]
     },
     "execution_count": 52,
     "metadata": {},
     "output_type": "execute_result"
    }
   ],
   "source": [
    "# Perform the inner join\n",
    "df_model = pd.merge(df_hist, df_sentiment, left_on='Date', right_on='fecha', how='left')\n",
    "df_model.drop(columns=['fecha'], inplace=True)\n",
    "df_model.fillna(0, inplace=True)\n",
    "df_model.info()\n",
    "df_model.head(10)"
   ]
  },
  {
   "cell_type": "markdown",
   "id": "30184592",
   "metadata": {},
   "source": [
    "## Visualizar el precio y el puntaje"
   ]
  },
  {
   "cell_type": "code",
   "execution_count": 57,
   "id": "96e4ed15",
   "metadata": {},
   "outputs": [
    {
     "data": {
      "text/plain": [
       "<Axes: xlabel='Date', ylabel='puntaje'>"
      ]
     },
     "execution_count": 57,
     "metadata": {},
     "output_type": "execute_result"
    },
    {
     "data": {
      "image/png": "[encoded data removed]",
      "text/plain": [
       "<Figure size 1400x700 with 2 Axes>"
      ]
     },
     "metadata": {},
     "output_type": "display_data"
    }
   ],
   "source": [
    "import matplotlib.pyplot as plt\n",
    "import seaborn as sns\n",
    "\n",
    "# Configurar el estilo de los gráficos\n",
    "sns.set(style=\"whitegrid\")\n",
    "\n",
    "# Crear una figura y un eje\n",
    "plt.figure(figsize=(14, 7))\n",
    "ax = sns.lineplot(data=df_model, x='Date', y='Close_COP=X', label='Precio del Dólar', color='blue')\n",
    "# Crear un segundo eje y\n",
    "ax2 = ax.twinx()\n",
    "# Graficar la segunda variable\n",
    "sns.lineplot(data=df_model, x='Date', y='puntaje', label='Sentimiento', color='orange', ax=ax2)"
   ]
  },
  {
   "cell_type": "markdown",
   "id": "e9cfc57e",
   "metadata": {},
   "source": [
    "### Graficar los ultimos 8 dias"
   ]
  },
  {
   "cell_type": "code",
   "execution_count": 64,
   "id": "69716d8a",
   "metadata": {},
   "outputs": [
    {
     "data": {
      "text/plain": [
       "<Axes: xlabel='Date', ylabel='puntaje'>"
      ]
     },
     "execution_count": 64,
     "metadata": {},
     "output_type": "execute_result"
    },
    {
     "data": {
      "image/png": "[encoded data removed]",
      "text/plain": [
       "<Figure size 1400x700 with 2 Axes>"
      ]
     },
     "metadata": {},
     "output_type": "display_data"
    }
   ],
   "source": [
    "# Crear una figura y un eje\n",
    "plt.figure(figsize=(14, 7))\n",
    "ax = sns.lineplot(data=df_model.iloc[-8:], x='Date', y='Close_COP=X', label='Precio del Dólar', color='blue')\n",
    "# Crear un segundo eje y\n",
    "ax2 = ax.twinx()\n",
    "# Crear una linea en 0\n",
    "ax2.axhline(0, color='black', linestyle='--', linewidth=0.5)\n",
    "# Graficar la segunda variable\n",
    "sns.lineplot(data=df_model.iloc[-8:], x='Date', y='puntaje', label='Sentimiento', color='orange', ax=ax2)"
   ]
  },
  {
   "cell_type": "markdown",
   "id": "4faea309",
   "metadata": {},
   "source": [
    "# Busqueda de modelos"
   ]
  },
  {
   "cell_type": "markdown",
   "id": "bf229a1c",
   "metadata": {},
   "source": [
    "## Preprocesamiento de la data de los datos"
   ]
  },
  {
   "cell_type": "code",
   "execution_count": 65,
   "id": "292a8403",
   "metadata": {},
   "outputs": [
    {
     "name": "stdout",
     "output_type": "stream",
     "text": [
      "<class 'pandas.core.frame.DataFrame'>\n",
      "RangeIndex: 1301 entries, 0 to 1300\n",
      "Data columns (total 3 columns):\n",
      " #   Column       Non-Null Count  Dtype         \n",
      "---  ------       --------------  -----         \n",
      " 0   Date         1301 non-null   datetime64[ns]\n",
      " 1   Close_COP=X  1301 non-null   float64       \n",
      " 2   puntaje      1301 non-null   float64       \n",
      "dtypes: datetime64[ns](1), float64(2)\n",
      "memory usage: 30.6 KB\n"
     ]
    }
   ],
   "source": [
    "df_model.info()"
   ]
  },
  {
   "cell_type": "code",
   "execution_count": 76,
   "id": "71e7fbcb",
   "metadata": {},
   "outputs": [],
   "source": [
    "# Seleccionar columnas relevantes\n",
    "features = ['Close_COP=X', 'puntaje']\n",
    "data = df_model[features].values\n",
    "\n",
    "# Normalizar los datos\n",
    "from sklearn.preprocessing import MinMaxScaler\n",
    "scaler = MinMaxScaler()\n",
    "data_scaled = scaler.fit_transform(data)\n",
    "\n",
    "# Crear secuencias\n",
    "def crear_secuencias(data, ventana):\n",
    "    X, y = [], []\n",
    "    for i in range(len(data) - ventana):\n",
    "        X.append(data[i:i+ventana])\n",
    "        y.append(data[i+ventana][0])  # el objetivo es 'close'\n",
    "    return np.array(X), np.array(y)\n",
    "\n",
    "ventana = 5\n",
    "X, y = crear_secuencias(data_scaled, ventana)\n"
   ]
  },
  {
   "cell_type": "code",
   "execution_count": 78,
   "id": "6e55d5bb",
   "metadata": {},
   "outputs": [
    {
     "name": "stdout",
     "output_type": "stream",
     "text": [
      "Entrenamiento: (1036, 5, 2) (1036,)\n",
      "Prueba: (260, 5, 2) (260,)\n"
     ]
    }
   ],
   "source": [
    "# Porcentaje para entrenamiento\n",
    "split = int(len(X) * 0.8)\n",
    "\n",
    "X_train, X_test = X[:split], X[split:]\n",
    "y_train, y_test = y[:split], y[split:]\n",
    "\n",
    "print(\"Entrenamiento:\", X_train.shape, y_train.shape)\n",
    "print(\"Prueba:\", X_test.shape, y_test.shape)\n"
   ]
  },
  {
   "cell_type": "code",
   "execution_count": 81,
   "id": "d3920247",
   "metadata": {},
   "outputs": [
    {
     "ename": "ModuleNotFoundError",
     "evalue": "No module named 'tensorflow'",
     "output_type": "error",
     "traceback": [
      "\u001b[1;31m---------------------------------------------------------------------------\u001b[0m",
      "\u001b[1;31mModuleNotFoundError\u001b[0m                       Traceback (most recent call last)",
      "Cell \u001b[1;32mIn[81], line 1\u001b[0m\n\u001b[1;32m----> 1\u001b[0m \u001b[38;5;28;01mfrom\u001b[39;00m \u001b[38;5;21;01mtensorflow\u001b[39;00m\u001b[38;5;21;01m.\u001b[39;00m\u001b[38;5;21;01mkeras\u001b[39;00m\u001b[38;5;21;01m.\u001b[39;00m\u001b[38;5;21;01mmodels\u001b[39;00m \u001b[38;5;28;01mimport\u001b[39;00m Sequential\n\u001b[0;32m      2\u001b[0m \u001b[38;5;28;01mfrom\u001b[39;00m \u001b[38;5;21;01mtensorflow\u001b[39;00m\u001b[38;5;21;01m.\u001b[39;00m\u001b[38;5;21;01mkeras\u001b[39;00m\u001b[38;5;21;01m.\u001b[39;00m\u001b[38;5;21;01mlayers\u001b[39;00m \u001b[38;5;28;01mimport\u001b[39;00m LSTM, Dense\n\u001b[0;32m      4\u001b[0m model \u001b[38;5;241m=\u001b[39m Sequential()\n",
      "\u001b[1;31mModuleNotFoundError\u001b[0m: No module named 'tensorflow'"
     ]
    }
   ],
   "source": [
    "from tensorflow.keras.models import Sequential\n",
    "from tensorflow.keras.layers import LSTM, Dense\n",
    "\n",
    "model = Sequential()\n",
    "model.add(LSTM(50, activation='relu', input_shape=(X.shape[1], X.shape[2])))\n",
    "model.add(Dense(1))\n",
    "model.compile(optimizer='adam', loss='mse')\n",
    "model.fit(X_train, y_train, epochs=20, batch_size=32, validation_data=(X_test, y_test))\n"
   ]
  }
 ],
 "metadata": {
  "kernelspec": {
   "display_name": "Python 3",
   "language": "python",
   "name": "python3"
  },
  "language_info": {
   "codemirror_mode": {
    "name": "ipython",
    "version": 3
   },
   "file_extension": ".py",
   "mimetype": "text/x-python",
   "name": "python",
   "nbconvert_exporter": "python",
   "pygments_lexer": "ipython3",
   "version": "3.11.2"
  }
 },
 "nbformat": 4,
 "nbformat_minor": 5
}
