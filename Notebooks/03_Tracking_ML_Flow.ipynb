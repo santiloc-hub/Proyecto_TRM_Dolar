{
 "cells": [
  {
   "cell_type": "markdown",
   "id": "078fa31e",
   "metadata": {},
   "source": [
    "# 03. Tracking ML Flow"
   ]
  },
  {
   "cell_type": "code",
   "execution_count": 2,
   "id": "83aab496",
   "metadata": {},
   "outputs": [],
   "source": [
    "import mlflow as mlflow\n",
    "import mlflow.sklearn\n",
    "import pandas as pd\n",
    "import numpy as np\n",
    "import os\n",
    "import sqlite3 \n"
   ]
  },
  {
   "cell_type": "code",
   "execution_count": 1,
   "id": "7421b83d",
   "metadata": {},
   "outputs": [],
   "source": [
    "\n",
    "# Guardar en un dataframe\n",
    "def save_to_dataframe(db_path, table_name):\n",
    "    # Conectar a la base de datos SQLite\n",
    "    conn = sqlite3.connect(db_path)\n",
    "    \n",
    "    # Leer la tabla en un DataFrame de pandas\n",
    "    df = pd.read_sql_query(f\"SELECT * FROM {table_name}\", conn)\n",
    "    \n",
    "    # Cerrar la conexión\n",
    "    conn.close()\n",
    "    \n",
    "    return df"
   ]
  },
  {
   "cell_type": "code",
   "execution_count": null,
   "id": "10ef1a71",
   "metadata": {},
   "outputs": [],
   "source": [
    "df=save_to_dataframe(\"../Datos/data.db\", \"runs\")"
   ]
  }
 ],
 "metadata": {
  "kernelspec": {
   "display_name": "Python 3",
   "language": "python",
   "name": "python3"
  },
  "language_info": {
   "codemirror_mode": {
    "name": "ipython",
    "version": 3
   },
   "file_extension": ".py",
   "mimetype": "text/x-python",
   "name": "python",
   "nbconvert_exporter": "python",
   "pygments_lexer": "ipython3",
   "version": "3.11.2"
  }
 },
 "nbformat": 4,
 "nbformat_minor": 5
}
